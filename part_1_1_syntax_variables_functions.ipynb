{
  "nbformat": 4,
  "nbformat_minor": 0,
  "metadata": {
    "kernelspec": {
      "display_name": "Python 3",
      "language": "python",
      "name": "python3"
    },
    "language_info": {
      "codemirror_mode": {
        "name": "ipython",
        "version": 3
      },
      "file_extension": ".py",
      "mimetype": "text/x-python",
      "name": "python",
      "nbconvert_exporter": "python",
      "pygments_lexer": "ipython3",
      "version": "3.5.4"
    },
    "colab": {
      "provenance": [],
      "include_colab_link": true
    }
  },
  "cells": [
    {
      "cell_type": "markdown",
      "metadata": {
        "id": "view-in-github",
        "colab_type": "text"
      },
      "source": [
        "<a href=\"https://colab.research.google.com/github/vinniecienzo/Saturn_V_Multistage_Rocket_Simulation_Non_uniform_G/blob/main/part_1_1_syntax_variables_functions.ipynb\" target=\"_parent\"><img src=\"https://colab.research.google.com/assets/colab-badge.svg\" alt=\"Open In Colab\"/></a>"
      ]
    },
    {
      "cell_type": "markdown",
      "metadata": {
        "id": "npyIfosog6Ry"
      },
      "source": [
        "\n",
        "# Introduction to Python Week 1: Basic Syntax, Variables & Functions\n",
        "\n",
        "### Written by [Jackie Champagne](http://jackiechampagne.com/); adapted by [Hannah Hasson](https://hrhasson.github.io/) and Nitya Ravi\n",
        "\n",
        "\n",
        "Before we start: [Code of conduct](https://docs.google.com/presentation/d/1UiBbQLGCZ_8VTTufJGitjnfz2Lj12TzAPuvHLvRLMhk/edit?usp=sharing)\n",
        "\n",
        "\n",
        "\n",
        "---\n",
        "\n"
      ]
    },
    {
      "cell_type": "markdown",
      "metadata": {
        "id": "M4Z5ZR2Ig6R0"
      },
      "source": [
        "Hi there! Welcome to our brief introductory Python course for scientific coding. We will be teaching you skills ranging from the most basic tasks to some more advanced plotting techniques that will be helpful to you in research.\n",
        "\n",
        "&nbsp;\n",
        "\n",
        "These Colab notebooks work the same as [**Jupyter notebooks**](https://jupyter-notebook.readthedocs.io/en/stable/), which is a code editor you can use offline. They have a mix of text cells and code cells, the latter of which you can execute by clicking the \"play\" button in the top left of the cell, or by hitting **Shift+Enter**.\n",
        "\n",
        "&nbsp;\n",
        "\n",
        "**Make sure to execute all the code cells as we go through the lesson!**\n",
        "\n",
        "&nbsp;\n",
        "\n",
        "The whole notebook is automatically saved periodically, but you can also save the outputs from your code as text files, plots, or images separate from the notebook. It is a great tool when you are building code from scratch and want to troubleshoot it or make a quick plot.\n",
        "\n",
        "&nbsp;\n",
        "\n",
        "If you are attending this workshop live, the Questions in this notebook are meant to be a short few lines of code which you will do during the workshop. The Exercises, in a separate notebook, are longer problems you will work on after lecture, with the expectation of having all exercises finished by the end of the course. You are encouraged to work collaboratively.\n",
        "\n",
        "Let's get started!\n",
        "\n",
        "**To run the code in a cell, click on the cell and press SHIFT+ENTER or click the play button at the top left of the cell.** To add *comments* to your code, put a hashtag `#` in front of each line of your comment. Do this to add notes explaining your code."
      ]
    },
    {
      "cell_type": "markdown",
      "metadata": {
        "id": "k3ocSVXlg6R6"
      },
      "source": [
        "## **Setting Variables**\n",
        "\n",
        "Variables are a way to store information that you can later access or modify. The information stored may be numbers, characters, or lists of either. Variables are typically given descriptive names to help us and others understand what our code is doing.\n",
        "\n",
        "&nbsp;\n",
        "\n",
        "To define a variable, use the `=` sign.\n",
        "\n",
        "The variable gets assigned the value of whatever you put to the right of the equal sign. This can be a number, text, or many other data types."
      ]
    },
    {
      "cell_type": "code",
      "metadata": {
        "id": "oinqvfsxg6R7"
      },
      "source": [
        "gravity = 9.8\n",
        "b = 2"
      ],
      "execution_count": null,
      "outputs": []
    },
    {
      "cell_type": "markdown",
      "metadata": {
        "id": "hBL0fZmEg6R_"
      },
      "source": [
        "Now Python will always know that `a` is 1 in this notebook. Setting variables is useful for things like constants, such as g=9.8 (acceleration of gravity in $m/s^2$). Note that you can't start a variable name with a number!\n",
        "\n",
        "&nbsp;\n",
        "\n",
        "To check that this worked, we can print it out. The syntax for printing something is `print(thing_you_want_to_print)`."
      ]
    },
    {
      "cell_type": "code",
      "metadata": {
        "id": "40r_UmsDg6SA",
        "colab": {
          "base_uri": "https://localhost:8080/"
        },
        "outputId": "9ac3e695-f518-4443-d375-5d5409f82ebf"
      },
      "source": [
        "print(gravity) #this prints the value of a\n",
        "print('gravity') #this prints the letter a"
      ],
      "execution_count": null,
      "outputs": [
        {
          "output_type": "stream",
          "name": "stdout",
          "text": [
            "9.8\n",
            "gravity\n"
          ]
        }
      ]
    },
    {
      "cell_type": "markdown",
      "metadata": {
        "id": "s-zp0w2b3Vaw"
      },
      "source": [
        "Every new print statement goes to a new line. If you want to print multiple things together on the same line, you can just separate them by a comma in your print function."
      ]
    },
    {
      "cell_type": "code",
      "metadata": {
        "id": "9MZRMdidCYAq",
        "colab": {
          "base_uri": "https://localhost:8080/"
        },
        "outputId": "ac6f0312-3fca-4ca8-8f49-35c6e42d297f"
      },
      "source": [
        "print(\"gravity equals\", gravity, \"and gravity+b is\", gravity+b)"
      ],
      "execution_count": null,
      "outputs": [
        {
          "output_type": "stream",
          "name": "stdout",
          "text": [
            "gravity equals 9.8 and gravity+b is 11.8\n"
          ]
        }
      ]
    },
    {
      "cell_type": "markdown",
      "source": [
        "Now lets learn how to add a code block and add some code into it. If you hover over the center of the page a + code will pop up. If you click this you will create a code block which you will be able to edit as you please."
      ],
      "metadata": {
        "id": "1Zmj01F3dvf0"
      }
    },
    {
      "cell_type": "code",
      "source": [],
      "metadata": {
        "id": "nhGz49IGjXr_"
      },
      "execution_count": null,
      "outputs": []
    },
    {
      "cell_type": "markdown",
      "metadata": {
        "id": "pXxefVT8g6SV"
      },
      "source": [
        "## **Variable types**\n",
        "\n",
        "There are 3 kinds of basic variables in Python: **floats, integers, and strings**.\n",
        "\n",
        "&nbsp;\n",
        "\n",
        "An **integer** is a whole number. A floating point value (**float**) is a number with a decimal point. A **string** has quotes around it and is treated as a word rather than a numeric value.\n"
      ]
    },
    {
      "cell_type": "markdown",
      "metadata": {
        "id": "D_wBDv-pt9NQ"
      },
      "source": [
        "Notice that this next line gives you an error. Why?"
      ]
    },
    {
      "cell_type": "code",
      "metadata": {
        "id": "QX7tA9RLZnCr"
      },
      "source": [
        "n = \"Hello world!\""
      ],
      "execution_count": null,
      "outputs": []
    },
    {
      "cell_type": "markdown",
      "metadata": {
        "id": "NanpfZCMg6SZ"
      },
      "source": [
        "&nbsp;\n",
        "\n",
        "You can **convert between variable types** if necessary, using the following commands:\n",
        "\n",
        "    int()\n",
        "    float()\n",
        "    str()\n",
        "    \n",
        "&nbsp;\n",
        "\n",
        "`int()` will print the whole number value of the float and *chops off everything after the decimal*. `float()` will follow an integer with a .0, which sounds pointless but is sometimes necessary for Python arithmetic. `str()` will put quotes around it so that Python reads it literally rather than numerically.\n",
        "\n",
        "&nbsp;\n",
        "\n",
        "Check out what each of these does to L:\n"
      ]
    },
    {
      "cell_type": "code",
      "metadata": {
        "id": "X5gP5geQvHlD",
        "colab": {
          "base_uri": "https://localhost:8080/"
        },
        "outputId": "48358608-9f03-4a05-84ff-fc274ac2c64a"
      },
      "source": [
        "L = 3.0\n",
        "print(int(L)) #make it an integer\n",
        "print(float(L)) #it's already a float\n",
        "print(str(L)) #make it a string"
      ],
      "execution_count": null,
      "outputs": [
        {
          "output_type": "stream",
          "name": "stdout",
          "text": [
            "3\n",
            "3.0\n",
            "3.0\n"
          ]
        }
      ]
    },
    {
      "cell_type": "markdown",
      "source": [
        "\n",
        "&nbsp;\n",
        "\n",
        "### Question 1: What kinds of variables are the following? Fill it in as a comment on each line."
      ],
      "metadata": {
        "id": "JEYR7cBIu2V4"
      }
    },
    {
      "cell_type": "code",
      "metadata": {
        "id": "SsYHX2z_g6SW"
      },
      "source": [
        "i = 1 #integer\n",
        "j = 2.43 #float\n",
        "k = \"Hello world!\" #\n",
        "L = 3. #\n",
        "m = \"123456\" #"
      ],
      "execution_count": null,
      "outputs": []
    },
    {
      "cell_type": "markdown",
      "metadata": {
        "id": "aN5xsfOMvErn"
      },
      "source": [
        "\n",
        "### Question 2a: Convert `i` (defined in the previous example) to a float and to a string, assigning each to a new variable name. Convert `j` into an integer and assign it to a variable. Use `print(type(variable_name))` to check each answer."
      ]
    },
    {
      "cell_type": "code",
      "metadata": {
        "id": "jN_Sx3vvg6Sa",
        "colab": {
          "base_uri": "https://localhost:8080/"
        },
        "outputId": "f322b1c5-2ab5-45b8-d2e1-e757a146f492"
      },
      "source": [
        "# solution here\n",
        "i = 3.4\n",
        "print(type(i))\n",
        "\n",
        "n = str(i)\n",
        "print(type(n))\n",
        "o = int(j)\n",
        "print(type(o))"
      ],
      "execution_count": null,
      "outputs": [
        {
          "output_type": "stream",
          "name": "stdout",
          "text": [
            "<class 'float'>\n",
            "<class 'str'>\n",
            "<class 'int'>\n"
          ]
        }
      ]
    },
    {
      "cell_type": "markdown",
      "metadata": {
        "id": "Mo0swcrvg6Sd"
      },
      "source": [
        "### Question 2b: Now convert k to an integer. What happens?"
      ]
    },
    {
      "cell_type": "code",
      "metadata": {
        "id": "bsBOunDWg6Se",
        "colab": {
          "base_uri": "https://localhost:8080/",
          "height": 169
        },
        "outputId": "9a96b6c7-770d-46c6-827c-918cc48b64e5"
      },
      "source": [
        "#solution here\n",
        "k - int(k)"
      ],
      "execution_count": null,
      "outputs": [
        {
          "output_type": "error",
          "ename": "ValueError",
          "evalue": "invalid literal for int() with base 10: 'Hello world!'",
          "traceback": [
            "\u001b[0;31m---------------------------------------------------------------------------\u001b[0m",
            "\u001b[0;31mValueError\u001b[0m                                Traceback (most recent call last)",
            "\u001b[0;32m<ipython-input-11-391cc14f52d2>\u001b[0m in \u001b[0;36m<cell line: 0>\u001b[0;34m()\u001b[0m\n\u001b[1;32m      1\u001b[0m \u001b[0;31m#solution here\u001b[0m\u001b[0;34m\u001b[0m\u001b[0;34m\u001b[0m\u001b[0m\n\u001b[0;32m----> 2\u001b[0;31m \u001b[0mk\u001b[0m \u001b[0;34m-\u001b[0m \u001b[0mint\u001b[0m\u001b[0;34m(\u001b[0m\u001b[0mk\u001b[0m\u001b[0;34m)\u001b[0m\u001b[0;34m\u001b[0m\u001b[0;34m\u001b[0m\u001b[0m\n\u001b[0m",
            "\u001b[0;31mValueError\u001b[0m: invalid literal for int() with base 10: 'Hello world!'"
          ]
        }
      ]
    },
    {
      "cell_type": "markdown",
      "metadata": {
        "id": "32GbnYMeQBwB"
      },
      "source": [
        "### Question 2c: Finally, convert m to an integer. Then check its type with the command `print(type(new_variable_name))`."
      ]
    },
    {
      "cell_type": "code",
      "metadata": {
        "id": "sRpd8fyBQTnZ",
        "colab": {
          "base_uri": "https://localhost:8080/"
        },
        "outputId": "28b60b29-cfca-4be5-d85c-8b4d03efa1fd"
      },
      "source": [
        "# solution here\n",
        "p = int(m)\n",
        "print(type(p))"
      ],
      "execution_count": null,
      "outputs": [
        {
          "output_type": "stream",
          "name": "stdout",
          "text": [
            "<class 'int'>\n"
          ]
        }
      ]
    },
    {
      "cell_type": "markdown",
      "metadata": {
        "id": "7oWyeWG-g6Sl"
      },
      "source": [
        "&nbsp;\n",
        "\n",
        "## **Python arithmetic**\n",
        "\n",
        "The syntax for doing arithmetic is the following:\n",
        "\n",
        "    +           add\n",
        "    -           subtract\n",
        "    *           multiply\n",
        "    /           divide\n",
        "    **          power\n"
      ]
    },
    {
      "cell_type": "markdown",
      "source": [
        "Make a mental note here that **raising something to an exponent does not use the symbol we are often used to**. Instead it uses a double asterisk (e.g. 4**2 is four squared).\n",
        "\n",
        "Here are some examples of doing arithmetic:"
      ],
      "metadata": {
        "id": "HqzTIa2p-WMH"
      }
    },
    {
      "cell_type": "code",
      "source": [
        "8 + 9"
      ],
      "metadata": {
        "id": "sCM6e9w5Axeq",
        "colab": {
          "base_uri": "https://localhost:8080/"
        },
        "outputId": "c017c9e8-8169-4e0e-9727-b8eb9b2c0547"
      },
      "execution_count": null,
      "outputs": [
        {
          "output_type": "execute_result",
          "data": {
            "text/plain": [
              "17"
            ]
          },
          "metadata": {},
          "execution_count": 13
        }
      ]
    },
    {
      "cell_type": "code",
      "metadata": {
        "id": "j5OMX7tog6Sp",
        "colab": {
          "base_uri": "https://localhost:8080/"
        },
        "outputId": "a162da0f-1561-49fc-aec8-a9e379418fd4"
      },
      "source": [
        "i = 1 # int\n",
        "j = 2.43 #float\n",
        "i + j"
      ],
      "execution_count": null,
      "outputs": [
        {
          "output_type": "execute_result",
          "data": {
            "text/plain": [
              "3.43"
            ]
          },
          "metadata": {},
          "execution_count": 14
        }
      ]
    },
    {
      "cell_type": "code",
      "metadata": {
        "id": "W4RT7H-kg6Sr",
        "colab": {
          "base_uri": "https://localhost:8080/"
        },
        "outputId": "722c1869-cead-473d-c995-9f3e0bf624d2"
      },
      "source": [
        "i * j"
      ],
      "execution_count": null,
      "outputs": [
        {
          "output_type": "execute_result",
          "data": {
            "text/plain": [
              "2.43"
            ]
          },
          "metadata": {},
          "execution_count": 15
        }
      ]
    },
    {
      "cell_type": "code",
      "metadata": {
        "id": "mcgg1ChTg6Su",
        "colab": {
          "base_uri": "https://localhost:8080/"
        },
        "outputId": "22a6ebd0-c22a-494f-cdc0-b1dd8977e6cf"
      },
      "source": [
        "j - i"
      ],
      "execution_count": null,
      "outputs": [
        {
          "output_type": "execute_result",
          "data": {
            "text/plain": [
              "1.4300000000000002"
            ]
          },
          "metadata": {},
          "execution_count": 16
        }
      ]
    },
    {
      "cell_type": "code",
      "metadata": {
        "id": "P3pwPBrgg6Sx",
        "colab": {
          "base_uri": "https://localhost:8080/"
        },
        "outputId": "a2c496a3-9e96-4887-a9a6-68c74b52dc01"
      },
      "source": [
        "i / j"
      ],
      "execution_count": null,
      "outputs": [
        {
          "output_type": "execute_result",
          "data": {
            "text/plain": [
              "0.4115226337448559"
            ]
          },
          "metadata": {},
          "execution_count": 17
        }
      ]
    },
    {
      "cell_type": "markdown",
      "metadata": {
        "id": "hT8yy-DeQ6DE"
      },
      "source": [
        "Wait a minute.... where did that extra 0.0000000000000002 come from when we subtracted?? This is due to something called [**floating-point error**](https://www.geeksforgeeks.org/floating-point-error-in-python/), which happens because the computer actually converts these numbers into binary (0's and 1's) before doing the subtraction. Because some decimals are hard to represent with binary, you get little errors introduced.\n",
        "\n",
        "&nbsp;"
      ]
    },
    {
      "cell_type": "markdown",
      "metadata": {
        "id": "GORBHLDtg6SE"
      },
      "source": [
        "&nbsp;\n",
        "\n",
        "##**Boolean logic: comparing variables**\n",
        "\n",
        "The double equals sign, `==`, represents the comparison operator in **boolean logic**. This refers to comparing values and seeing if a relationship is **true or false**. This will come in handy when you write code where your data must meet a certain condition.\n",
        "\n",
        "Remembering that we set a=1 earlier:\n"
      ]
    },
    {
      "cell_type": "code",
      "metadata": {
        "id": "OkCxekjkg6SF",
        "colab": {
          "base_uri": "https://localhost:8080/"
        },
        "outputId": "9fbdc5f0-86a2-4895-fb2b-26a0659a1482"
      },
      "source": [
        "gravity == 1 #check if a is equal to 1"
      ],
      "execution_count": null,
      "outputs": [
        {
          "output_type": "execute_result",
          "data": {
            "text/plain": [
              "False"
            ]
          },
          "metadata": {},
          "execution_count": 18
        }
      ]
    },
    {
      "cell_type": "code",
      "metadata": {
        "id": "pQzU8XhHg6SI",
        "colab": {
          "base_uri": "https://localhost:8080/"
        },
        "outputId": "2df0cac2-462a-45eb-d185-56ab2e90dcba"
      },
      "source": [
        "gravity == 9.8 #check if a is equal to 9.8"
      ],
      "execution_count": null,
      "outputs": [
        {
          "output_type": "execute_result",
          "data": {
            "text/plain": [
              "True"
            ]
          },
          "metadata": {},
          "execution_count": 19
        }
      ]
    },
    {
      "cell_type": "markdown",
      "metadata": {
        "id": "cGlLnH9zI2qP"
      },
      "source": [
        "Do not confuse the single equals `=` (assign variable) with the double `==` (check if two things are equal)!\n",
        "\n",
        "&nbsp;\n",
        "\n",
        "We can create criteria with multiple booleans:\n",
        "\n",
        "\n",
        "\n",
        "OR statements (`Entry1 or EntryB`): statement is TRUE if **either** Entry1 or EntryB are true (or if both are true); statement is FALSE only if both statements Entry1 and EntryB are false.\n",
        "\n",
        "AND statements (`Entry1 and EntryB`): statement is TRUE if and only if **both** Entry1 and EntryB are true; statement is FALSE if one or both is false.\n",
        "\n",
        "&nbsp;\n",
        "\n",
        "In Python, the phrase `a == 1 or 2` does not make sense. The full statement must be `a == 1 or a == 2` so that each piece of logic is separate."
      ]
    },
    {
      "cell_type": "code",
      "metadata": {
        "id": "kRe2Tqddg6SM",
        "colab": {
          "base_uri": "https://localhost:8080/"
        },
        "outputId": "bf03838e-5aec-4a30-802e-dccfc9857e0b"
      },
      "source": [
        "gravity == 9.8 or gravity == 2 #True OR False"
      ],
      "execution_count": null,
      "outputs": [
        {
          "output_type": "execute_result",
          "data": {
            "text/plain": [
              "True"
            ]
          },
          "metadata": {},
          "execution_count": 20
        }
      ]
    },
    {
      "cell_type": "code",
      "metadata": {
        "id": "ZFIwiDd9g6SS",
        "colab": {
          "base_uri": "https://localhost:8080/"
        },
        "outputId": "23f54785-dfb2-4868-8fa1-dbdc80d3b30f"
      },
      "source": [
        "gravity == 9.8 or b == 2 #True OR True"
      ],
      "execution_count": null,
      "outputs": [
        {
          "output_type": "execute_result",
          "data": {
            "text/plain": [
              "True"
            ]
          },
          "metadata": {},
          "execution_count": 21
        }
      ]
    },
    {
      "cell_type": "code",
      "metadata": {
        "id": "I5DWldVhg6SP",
        "colab": {
          "base_uri": "https://localhost:8080/"
        },
        "outputId": "02767018-38a6-4de9-e0d1-ed24afc5ab38"
      },
      "source": [
        "gravity== 9.8 and gravity == 2 #True AND False"
      ],
      "execution_count": null,
      "outputs": [
        {
          "output_type": "execute_result",
          "data": {
            "text/plain": [
              "False"
            ]
          },
          "metadata": {},
          "execution_count": 22
        }
      ]
    },
    {
      "cell_type": "code",
      "metadata": {
        "id": "wuv2EReHuuXo",
        "colab": {
          "base_uri": "https://localhost:8080/"
        },
        "outputId": "697ce92b-9558-486c-af71-ca96f4de6eb4"
      },
      "source": [
        "gravity == 9.8 and b == 2 #True AND True"
      ],
      "execution_count": null,
      "outputs": [
        {
          "output_type": "execute_result",
          "data": {
            "text/plain": [
              "True"
            ]
          },
          "metadata": {},
          "execution_count": 23
        }
      ]
    },
    {
      "cell_type": "markdown",
      "metadata": {
        "id": "NTLHqWsQHZhT"
      },
      "source": [
        "There are also other comparison operators. Here are all the basic ones you will use:\n",
        "    \n",
        "    ==   equal to\n",
        "    !=   not equal to\n",
        "    <    less than\n",
        "    <=   less than or equal to\n",
        "    >    greater than\n",
        "    >=   greater than or equal to\n",
        "\n"
      ]
    },
    {
      "cell_type": "code",
      "metadata": {
        "id": "JeC5ogUbssVM",
        "colab": {
          "base_uri": "https://localhost:8080/"
        },
        "outputId": "56c553e3-3187-42b2-a5e4-d82934f4cc4f"
      },
      "source": [
        "gravity >= 0"
      ],
      "execution_count": null,
      "outputs": [
        {
          "output_type": "execute_result",
          "data": {
            "text/plain": [
              "True"
            ]
          },
          "metadata": {},
          "execution_count": 24
        }
      ]
    },
    {
      "cell_type": "code",
      "metadata": {
        "id": "Yg-tg-DYP5ws",
        "colab": {
          "base_uri": "https://localhost:8080/"
        },
        "outputId": "3b1e6682-983e-404f-e96d-9ba27420783c"
      },
      "source": [
        "gravity < 1"
      ],
      "execution_count": null,
      "outputs": [
        {
          "output_type": "execute_result",
          "data": {
            "text/plain": [
              "False"
            ]
          },
          "metadata": {},
          "execution_count": 25
        }
      ]
    },
    {
      "cell_type": "markdown",
      "metadata": {
        "id": "8PXvVwCAaZdq"
      },
      "source": [
        "## **If statement**\n",
        "\n",
        "This is a conditional statement where **the code will proceed only if the condition is met**. Otherwise the code will stop or move on to the next condition.\n",
        "\n",
        "&nbsp;\n",
        "\n",
        "The condition in an `if` statement is a comparison that produces `True` or `False` (**boolean**).\n",
        "\n",
        "&nbsp;\n",
        "\n",
        "\n",
        "The syntax for `if` statements is the following:\n",
        "\n",
        "    if condition_is_met:\n",
        "        (do something)\n",
        "        \n",
        "Note the indentation of the second line! Indentation indicates the section of code that will run only if the if statment condition returns `True`. Python is very picky about this, though some other coding languages are not.\n",
        "\n",
        "&nbsp;\n",
        "\n",
        "\n",
        "Now if you want a different section of code to run when the condition is not met, use `else`. Indentation is still important here!\n",
        "\n",
        "    if condition_is_met:\n",
        "        (do something)\n",
        "    else:\n",
        "        (do a different thing)\n",
        "\n",
        " &nbsp;        \n",
        "Thus, the code will **only** move to `else` if the first condition is `False`.\n",
        "\n",
        "To include multiple options, use `elif`, short for 'else if'. You can use `elif` as many times as you'd like!\n",
        "\n",
        "    if condition_is_met:\n",
        "        (do something)\n",
        "    elif different_condition_is_met:\n",
        "        (do something else)\n",
        "    elif another_different_condition_is_met:\n",
        "        (do something new)\n",
        "    else:\n",
        "        (do another thing)\n",
        "\n",
        "**Notice the way that things are indented.** Each of the actions belonging to a conditional statement is **indented below it**. Also make sure you don't forget the colon (**`:`**) at the end of each conditional line!\n",
        "\n",
        "&nbsp;\n",
        "\n",
        "### Question 3a: Try a simple if statement: if 1 equals 1, print \"yes!\"\n",
        "\n",
        "### Question 3b: Write a second if statement: if one does not equal one, print \"no!\" What happens?"
      ]
    },
    {
      "cell_type": "code",
      "metadata": {
        "id": "Tw24t46yaZdr",
        "colab": {
          "base_uri": "https://localhost:8080/"
        },
        "outputId": "08fea8a3-e8cd-4dbd-e3a9-e0da30416bee"
      },
      "source": [
        "# solution to Part a here\n",
        "if 1 == 1:\n",
        "  print('yes')\n",
        "else:\n",
        "  print('no')"
      ],
      "execution_count": null,
      "outputs": [
        {
          "output_type": "stream",
          "name": "stdout",
          "text": [
            "yes\n"
          ]
        }
      ]
    },
    {
      "cell_type": "code",
      "source": [
        "# solution to Part b here\n",
        "if 1!=1:\n",
        "  print(\"no\")\n",
        "else:\n",
        "  print(\"yes\")"
      ],
      "metadata": {
        "id": "u_6rqUMJLRN5",
        "colab": {
          "base_uri": "https://localhost:8080/"
        },
        "outputId": "b17ce722-6df4-49eb-f81f-51d16cfa8670"
      },
      "execution_count": null,
      "outputs": [
        {
          "output_type": "stream",
          "name": "stdout",
          "text": [
            "yes\n"
          ]
        }
      ]
    },
    {
      "cell_type": "markdown",
      "metadata": {
        "id": "c_ixdFW3aZdu"
      },
      "source": [
        "You probably noticed that the code didn't output anything for part b, since the statement is false. If we don't want the code to stop, we would put in an else statement.\n",
        "\n",
        "&nbsp;\n",
        "\n",
        "Try it again:\n",
        "\n",
        "### Question 3c: Change your if statement from above. If one does not equal one, print \"1 does not equal 1??!!\" Otherwise, print \"1 always equals 1, duh.\" (Use an if and an else here)"
      ]
    },
    {
      "cell_type": "code",
      "metadata": {
        "id": "neqRF6idaZdv",
        "colab": {
          "base_uri": "https://localhost:8080/"
        },
        "outputId": "de66261c-d1f9-4cf8-af45-7c0151979d04"
      },
      "source": [
        "#solution here\n",
        "if 1 != 1:\n",
        "  print(\"one doesn't equal ome?!?!?!\")\n",
        "else:\n",
        "  print(\"1 always equals 1, duh.\")"
      ],
      "execution_count": null,
      "outputs": [
        {
          "output_type": "stream",
          "name": "stdout",
          "text": [
            "1 always equals 1, duh.\n"
          ]
        }
      ]
    },
    {
      "cell_type": "markdown",
      "metadata": {
        "id": "rXc0RMMkaZdy"
      },
      "source": [
        "&nbsp;\n",
        "\n",
        "### Question 3d: Let's review some boolean logic. Go ahead and define that `b = 10`. Write an `if` statement that checks if b is equal to 10 or 2 (all on one line), and if so, print the value of b."
      ]
    },
    {
      "cell_type": "code",
      "metadata": {
        "id": "RcLADZv2aZdy",
        "colab": {
          "base_uri": "https://localhost:8080/"
        },
        "outputId": "ecb13742-3cb2-4b7a-d177-afb20221f8b4"
      },
      "source": [
        "if b == 10 or b == 2:\n",
        "  print(b)\n"
      ],
      "execution_count": null,
      "outputs": [
        {
          "output_type": "stream",
          "name": "stdout",
          "text": [
            "2\n"
          ]
        }
      ]
    },
    {
      "cell_type": "markdown",
      "metadata": {
        "id": "HYDyplVLR_0L"
      },
      "source": [
        "&nbsp;\n",
        "&nbsp;\n",
        "-------\n",
        "#PAUSE HERE AND TAKE A BREAK!\n",
        "-------\n",
        "\n",
        "&nbsp;"
      ]
    },
    {
      "cell_type": "markdown",
      "metadata": {
        "id": "5H2Ouo8KaZeD"
      },
      "source": [
        "&nbsp;\n",
        "\n",
        "## **User-defined functions**\n",
        "\n",
        "This is where the true programming comes in. Basically any code you write will be a series of functions that accomplish some task. Functions include mathematical expressions, list/array sorting, statistical operations, and many more.\n",
        "\n",
        "When we want to repeat something in our code, we can define our own functions. User-defined functions keep code separated, organized, and modular.\n",
        "\n",
        "&nbsp;\n",
        "\n",
        "The syntax goes like this:\n",
        "\n",
        "    def my_function_name(a, b, c):\n",
        "        (do something with a, b, and c)\n",
        "        return (some value(s))\n",
        "    \n",
        "First you define the function using \"def\". The definition of the function includes the name of the function and the arguments required for the function to work. You should leave the arguments as variables, and you will give the variables values when you call the function to use it.\n",
        "\n",
        "&nbsp;\n",
        "\n",
        "Inside the function, some operation will be performed on the inputs you've provided. You can have the function just modify or print something, OR you can have it give a result to the user. To do this, you would use the **return** keyword. Return tells the function what to give you back.\n",
        "\n",
        "&nbsp;\n",
        "\n",
        "Here's an example using **return** where we calculate the y position of a point on a line with some *x* position, slope *m* and intercept *b* that are given as inputs:"
      ]
    },
    {
      "cell_type": "code",
      "metadata": {
        "id": "G-5IiAlhaZeD"
      },
      "source": [
        "def line(x, m, b):\n",
        "    y = m * x + b\n",
        "    return y"
      ],
      "execution_count": null,
      "outputs": []
    },
    {
      "cell_type": "markdown",
      "metadata": {
        "id": "7DGatVtvaZeG"
      },
      "source": [
        "Now, to run the function, you call its name and then supply values for the arguments:\n",
        "\n",
        "\n"
      ]
    },
    {
      "cell_type": "code",
      "metadata": {
        "id": "_H7ADwutaZeG",
        "colab": {
          "base_uri": "https://localhost:8080/"
        },
        "outputId": "9b468f2d-7ec3-4444-f602-c328cd45a6f1"
      },
      "source": [
        "my_x = 1\n",
        "my_m = 2\n",
        "my_b = 3\n",
        "\n",
        "one_value = line(my_x, my_m, my_b)\n",
        "print(one_value)\n",
        "\n",
        "#Confirm this is doing what we think\n",
        "\n",
        "print(2*1+3)"
      ],
      "execution_count": null,
      "outputs": [
        {
          "output_type": "stream",
          "name": "stdout",
          "text": [
            "5\n",
            "5\n"
          ]
        }
      ]
    },
    {
      "cell_type": "markdown",
      "source": [
        "You've already been using functions. The print() function is a great example of this, where when you call the print function and feed it input variables, python will do something. In this case print out your input.\n",
        "\n",
        "The function you made which is called line(), doesn't print out variables. Instead, it calculates the y-value along a line and returns it. The way you call a function is the same for every function:\n",
        "\n",
        "    my_function_name(inputs,here,blah)\n"
      ],
      "metadata": {
        "id": "3lfjEqckoMFs"
      }
    },
    {
      "cell_type": "markdown",
      "source": [
        "Reminder about code blocks and adding functions."
      ],
      "metadata": {
        "id": "xUA-mEVAqF3J"
      }
    },
    {
      "cell_type": "markdown",
      "source": [
        "## **Importing packages**\n",
        "\n",
        "The first thing you'll need to do when writing any code is import the **packages** you expect to use. [Packages](https://docs.python.org/3/reference/import.html#packages) are groups of functions and keywords for some purpose. For example, the **numpy** package has mathematical functions like $sine$ (`numpy.sin`) and constants like $\\pi$ (`numpy.pi`).\n",
        "\n",
        "&nbsp;\n",
        "\n",
        "You can put your **import statement** anywhere in your code, as long as it's written before you call anything from the package. Note that it's best practice to put them all at the **top of your code**.\n",
        "&nbsp;\n",
        "\n",
        "Let's load up numpy and a couple other useful examples.\n",
        "\n",
        "&nbsp;\n",
        "\n",
        "Some examples of imports and commenting:"
      ],
      "metadata": {
        "id": "4ASUcZYX671d"
      }
    },
    {
      "cell_type": "code",
      "metadata": {
        "id": "woeqobz4g6R1"
      },
      "source": [
        "import numpy as np #'import' loads up the package.\n",
        "\n",
        "# you can use 'as' to define a shortcut so you don't need to type\n",
        "# numpy before every use of the package. Most people use 'np'.\n",
        "\n",
        "import matplotlib.pyplot as plt\n",
        "\n",
        "from scipy import integrate #'from' allows you to import a specific sub-package"
      ],
      "execution_count": null,
      "outputs": []
    },
    {
      "cell_type": "markdown",
      "metadata": {
        "id": "w6CuNL0c2OKT"
      },
      "source": [
        "Now we don't have to import these packages again for the rest of our notebook! Calling a function or constant from one of your imported packages is simple.\n",
        "\n",
        "**function**:\n",
        "\n",
        "    nameofpackage.somefunction(arguments,go,here)\n",
        "or\n",
        "\n",
        "**constant**:\n",
        "\n",
        "    nameofpackage.someconstant"
      ]
    },
    {
      "cell_type": "markdown",
      "metadata": {
        "id": "qSa_HuU22-MP"
      },
      "source": [
        "Execute the example below to call the constant pi"
      ]
    },
    {
      "cell_type": "code",
      "metadata": {
        "id": "yomiUqLX3N3q",
        "collapsed": true,
        "colab": {
          "base_uri": "https://localhost:8080/"
        },
        "outputId": "062fe8da-df9c-4f36-ea5d-75675b40af6c"
      },
      "source": [
        "np.pi #remember we renamed numpy as np"
      ],
      "execution_count": null,
      "outputs": [
        {
          "output_type": "execute_result",
          "data": {
            "text/plain": [
              "3.141592653589793"
            ]
          },
          "metadata": {},
          "execution_count": 39
        }
      ]
    },
    {
      "cell_type": "markdown",
      "source": [
        "Here's an example of using an imported function. It takes some input(s) just like the functions we define ourselves."
      ],
      "metadata": {
        "id": "8nNWqJszrSg3"
      }
    },
    {
      "cell_type": "code",
      "source": [
        "np.cos(np.pi/2.0)"
      ],
      "metadata": {
        "id": "Cp7tKa-2rR_E",
        "colab": {
          "base_uri": "https://localhost:8080/"
        },
        "outputId": "15d243c8-ef8d-42e1-985a-0dd2adca3b75"
      },
      "execution_count": null,
      "outputs": [
        {
          "output_type": "execute_result",
          "data": {
            "text/plain": [
              "6.123233995736766e-17"
            ]
          },
          "metadata": {},
          "execution_count": 45
        }
      ]
    },
    {
      "cell_type": "markdown",
      "source": [
        "&nbsp;\n",
        "\n",
        "Most packages have online documentation that describes all of their functions and keywords. numpy's documentation can be found [here](https://numpy.org/doc/stable/index.html). Take a look at the documentation for `numpy.sin` [here](https://numpy.org/doc/stable/reference/generated/numpy.sin.html#numpy.sin)."
      ],
      "metadata": {
        "id": "yWMsk1ihwfke"
      }
    },
    {
      "cell_type": "markdown",
      "metadata": {
        "id": "hGXWFPde3X0p"
      },
      "source": [
        "If you try to use something from a package without importing it first, you will get a sassy little error message"
      ]
    },
    {
      "cell_type": "code",
      "metadata": {
        "id": "35pGGhZ_3wox",
        "colab": {
          "base_uri": "https://localhost:8080/",
          "height": 306
        },
        "outputId": "1e157dd1-339d-4e21-b7b8-e97cceb8b52d"
      },
      "source": [
        "pandas.read_csv(\"some_filename.pdf\")"
      ],
      "execution_count": null,
      "outputs": [
        {
          "output_type": "error",
          "ename": "FileNotFoundError",
          "evalue": "[Errno 2] No such file or directory: 'some_filename.pdf'",
          "traceback": [
            "\u001b[0;31m---------------------------------------------------------------------------\u001b[0m",
            "\u001b[0;31mFileNotFoundError\u001b[0m                         Traceback (most recent call last)",
            "\u001b[0;32m<ipython-input-48-fcb7e982379d>\u001b[0m in \u001b[0;36m<cell line: 0>\u001b[0;34m()\u001b[0m\n\u001b[0;32m----> 1\u001b[0;31m \u001b[0mpandas\u001b[0m\u001b[0;34m.\u001b[0m\u001b[0mread_csv\u001b[0m\u001b[0;34m(\u001b[0m\u001b[0;34m\"some_filename.pdf\"\u001b[0m\u001b[0;34m)\u001b[0m\u001b[0;34m\u001b[0m\u001b[0;34m\u001b[0m\u001b[0m\n\u001b[0m",
            "\u001b[0;32m/usr/local/lib/python3.11/dist-packages/pandas/io/parsers/readers.py\u001b[0m in \u001b[0;36mread_csv\u001b[0;34m(filepath_or_buffer, sep, delimiter, header, names, index_col, usecols, dtype, engine, converters, true_values, false_values, skipinitialspace, skiprows, skipfooter, nrows, na_values, keep_default_na, na_filter, verbose, skip_blank_lines, parse_dates, infer_datetime_format, keep_date_col, date_parser, date_format, dayfirst, cache_dates, iterator, chunksize, compression, thousands, decimal, lineterminator, quotechar, quoting, doublequote, escapechar, comment, encoding, encoding_errors, dialect, on_bad_lines, delim_whitespace, low_memory, memory_map, float_precision, storage_options, dtype_backend)\u001b[0m\n\u001b[1;32m   1024\u001b[0m     \u001b[0mkwds\u001b[0m\u001b[0;34m.\u001b[0m\u001b[0mupdate\u001b[0m\u001b[0;34m(\u001b[0m\u001b[0mkwds_defaults\u001b[0m\u001b[0;34m)\u001b[0m\u001b[0;34m\u001b[0m\u001b[0;34m\u001b[0m\u001b[0m\n\u001b[1;32m   1025\u001b[0m \u001b[0;34m\u001b[0m\u001b[0m\n\u001b[0;32m-> 1026\u001b[0;31m     \u001b[0;32mreturn\u001b[0m \u001b[0m_read\u001b[0m\u001b[0;34m(\u001b[0m\u001b[0mfilepath_or_buffer\u001b[0m\u001b[0;34m,\u001b[0m \u001b[0mkwds\u001b[0m\u001b[0;34m)\u001b[0m\u001b[0;34m\u001b[0m\u001b[0;34m\u001b[0m\u001b[0m\n\u001b[0m\u001b[1;32m   1027\u001b[0m \u001b[0;34m\u001b[0m\u001b[0m\n\u001b[1;32m   1028\u001b[0m \u001b[0;34m\u001b[0m\u001b[0m\n",
            "\u001b[0;32m/usr/local/lib/python3.11/dist-packages/pandas/io/parsers/readers.py\u001b[0m in \u001b[0;36m_read\u001b[0;34m(filepath_or_buffer, kwds)\u001b[0m\n\u001b[1;32m    618\u001b[0m \u001b[0;34m\u001b[0m\u001b[0m\n\u001b[1;32m    619\u001b[0m     \u001b[0;31m# Create the parser.\u001b[0m\u001b[0;34m\u001b[0m\u001b[0;34m\u001b[0m\u001b[0m\n\u001b[0;32m--> 620\u001b[0;31m     \u001b[0mparser\u001b[0m \u001b[0;34m=\u001b[0m \u001b[0mTextFileReader\u001b[0m\u001b[0;34m(\u001b[0m\u001b[0mfilepath_or_buffer\u001b[0m\u001b[0;34m,\u001b[0m \u001b[0;34m**\u001b[0m\u001b[0mkwds\u001b[0m\u001b[0;34m)\u001b[0m\u001b[0;34m\u001b[0m\u001b[0;34m\u001b[0m\u001b[0m\n\u001b[0m\u001b[1;32m    621\u001b[0m \u001b[0;34m\u001b[0m\u001b[0m\n\u001b[1;32m    622\u001b[0m     \u001b[0;32mif\u001b[0m \u001b[0mchunksize\u001b[0m \u001b[0;32mor\u001b[0m \u001b[0miterator\u001b[0m\u001b[0;34m:\u001b[0m\u001b[0;34m\u001b[0m\u001b[0;34m\u001b[0m\u001b[0m\n",
            "\u001b[0;32m/usr/local/lib/python3.11/dist-packages/pandas/io/parsers/readers.py\u001b[0m in \u001b[0;36m__init__\u001b[0;34m(self, f, engine, **kwds)\u001b[0m\n\u001b[1;32m   1618\u001b[0m \u001b[0;34m\u001b[0m\u001b[0m\n\u001b[1;32m   1619\u001b[0m         \u001b[0mself\u001b[0m\u001b[0;34m.\u001b[0m\u001b[0mhandles\u001b[0m\u001b[0;34m:\u001b[0m \u001b[0mIOHandles\u001b[0m \u001b[0;34m|\u001b[0m \u001b[0;32mNone\u001b[0m \u001b[0;34m=\u001b[0m \u001b[0;32mNone\u001b[0m\u001b[0;34m\u001b[0m\u001b[0;34m\u001b[0m\u001b[0m\n\u001b[0;32m-> 1620\u001b[0;31m         \u001b[0mself\u001b[0m\u001b[0;34m.\u001b[0m\u001b[0m_engine\u001b[0m \u001b[0;34m=\u001b[0m \u001b[0mself\u001b[0m\u001b[0;34m.\u001b[0m\u001b[0m_make_engine\u001b[0m\u001b[0;34m(\u001b[0m\u001b[0mf\u001b[0m\u001b[0;34m,\u001b[0m \u001b[0mself\u001b[0m\u001b[0;34m.\u001b[0m\u001b[0mengine\u001b[0m\u001b[0;34m)\u001b[0m\u001b[0;34m\u001b[0m\u001b[0;34m\u001b[0m\u001b[0m\n\u001b[0m\u001b[1;32m   1621\u001b[0m \u001b[0;34m\u001b[0m\u001b[0m\n\u001b[1;32m   1622\u001b[0m     \u001b[0;32mdef\u001b[0m \u001b[0mclose\u001b[0m\u001b[0;34m(\u001b[0m\u001b[0mself\u001b[0m\u001b[0;34m)\u001b[0m \u001b[0;34m->\u001b[0m \u001b[0;32mNone\u001b[0m\u001b[0;34m:\u001b[0m\u001b[0;34m\u001b[0m\u001b[0;34m\u001b[0m\u001b[0m\n",
            "\u001b[0;32m/usr/local/lib/python3.11/dist-packages/pandas/io/parsers/readers.py\u001b[0m in \u001b[0;36m_make_engine\u001b[0;34m(self, f, engine)\u001b[0m\n\u001b[1;32m   1878\u001b[0m                 \u001b[0;32mif\u001b[0m \u001b[0;34m\"b\"\u001b[0m \u001b[0;32mnot\u001b[0m \u001b[0;32min\u001b[0m \u001b[0mmode\u001b[0m\u001b[0;34m:\u001b[0m\u001b[0;34m\u001b[0m\u001b[0;34m\u001b[0m\u001b[0m\n\u001b[1;32m   1879\u001b[0m                     \u001b[0mmode\u001b[0m \u001b[0;34m+=\u001b[0m \u001b[0;34m\"b\"\u001b[0m\u001b[0;34m\u001b[0m\u001b[0;34m\u001b[0m\u001b[0m\n\u001b[0;32m-> 1880\u001b[0;31m             self.handles = get_handle(\n\u001b[0m\u001b[1;32m   1881\u001b[0m                 \u001b[0mf\u001b[0m\u001b[0;34m,\u001b[0m\u001b[0;34m\u001b[0m\u001b[0;34m\u001b[0m\u001b[0m\n\u001b[1;32m   1882\u001b[0m                 \u001b[0mmode\u001b[0m\u001b[0;34m,\u001b[0m\u001b[0;34m\u001b[0m\u001b[0;34m\u001b[0m\u001b[0m\n",
            "\u001b[0;32m/usr/local/lib/python3.11/dist-packages/pandas/io/common.py\u001b[0m in \u001b[0;36mget_handle\u001b[0;34m(path_or_buf, mode, encoding, compression, memory_map, is_text, errors, storage_options)\u001b[0m\n\u001b[1;32m    871\u001b[0m         \u001b[0;32mif\u001b[0m \u001b[0mioargs\u001b[0m\u001b[0;34m.\u001b[0m\u001b[0mencoding\u001b[0m \u001b[0;32mand\u001b[0m \u001b[0;34m\"b\"\u001b[0m \u001b[0;32mnot\u001b[0m \u001b[0;32min\u001b[0m \u001b[0mioargs\u001b[0m\u001b[0;34m.\u001b[0m\u001b[0mmode\u001b[0m\u001b[0;34m:\u001b[0m\u001b[0;34m\u001b[0m\u001b[0;34m\u001b[0m\u001b[0m\n\u001b[1;32m    872\u001b[0m             \u001b[0;31m# Encoding\u001b[0m\u001b[0;34m\u001b[0m\u001b[0;34m\u001b[0m\u001b[0m\n\u001b[0;32m--> 873\u001b[0;31m             handle = open(\n\u001b[0m\u001b[1;32m    874\u001b[0m                 \u001b[0mhandle\u001b[0m\u001b[0;34m,\u001b[0m\u001b[0;34m\u001b[0m\u001b[0;34m\u001b[0m\u001b[0m\n\u001b[1;32m    875\u001b[0m                 \u001b[0mioargs\u001b[0m\u001b[0;34m.\u001b[0m\u001b[0mmode\u001b[0m\u001b[0;34m,\u001b[0m\u001b[0;34m\u001b[0m\u001b[0;34m\u001b[0m\u001b[0m\n",
            "\u001b[0;31mFileNotFoundError\u001b[0m: [Errno 2] No such file or directory: 'some_filename.pdf'"
          ]
        }
      ]
    },
    {
      "cell_type": "markdown",
      "source": [
        "## Docstrings\n",
        "\n",
        "&nbsp;\n",
        "\n",
        "It's important to have good documentation in your code. When working on big projects, good documentation will help you remember what you've done without having to read through all of your code. In collaborative projects, comments will help your collaborators understand your code quickly. A good rule of thumb is to have as many lines of comments as you have lines of code.\n",
        "\n",
        "You've already seen that `#` can be used to start a single line comment.\n",
        "\n",
        "Another good way to document your code is to use documentation strings, or **docstrings**. Docstrings are comments that are used to describe functions that can be accessed using `__doc__` or the `help` function.\n",
        "Docstrings are enclosed in triple-quotes which allows  for multi-line comments. They can be a short description of a function like so:\n",
        "\n",
        "\n",
        "```\n",
        "def my_func():\n",
        "  ''' This is what my function does'''\n",
        "```\n",
        "\n",
        "They can also contain extra information about the arguments and what the function returns. A common way to format this is in the Numpydoc style, but you can use any style as long as it's clear. Here's an example of defining a function and documenting it in this style.\n",
        "\n",
        "\n",
        "\n"
      ],
      "metadata": {
        "id": "Rl18hFaHEhee"
      }
    },
    {
      "cell_type": "code",
      "source": [
        "def triple_add(a, b, c):\n",
        "  '''\n",
        "  Add three numbers\n",
        "\n",
        "  Parameters\n",
        "  ----------\n",
        "  a : float\n",
        "    The first number in the sum.\n",
        "\n",
        "  b : float\n",
        "    The second number in the sum.\n",
        "\n",
        "  c : float\n",
        "    The third number in the sum.\n",
        "\n",
        "  Returns\n",
        "  -------\n",
        "  float\n",
        "    The sum of a, b, and c.\n",
        "  '''\n",
        "  value = a + b +c\n",
        "  return value\n"
      ],
      "metadata": {
        "id": "UwcakeQdG5AG"
      },
      "execution_count": null,
      "outputs": []
    },
    {
      "cell_type": "markdown",
      "source": [
        "There are two ways to read the docstring for this function.\n",
        "\n",
        "\n",
        "\n",
        "```\n",
        "print(my_func.__doc__)\n",
        "```\n",
        "\n",
        "or using the help function\n",
        "\n",
        "\n",
        "\n",
        "```\n",
        "help(my_func)\n",
        "```\n",
        "\n",
        "Try this out.\n",
        "\n"
      ],
      "metadata": {
        "id": "LDy1Pmp1Hkx3"
      }
    },
    {
      "cell_type": "code",
      "source": [
        "print(triple_add.__doc__)"
      ],
      "metadata": {
        "id": "-yBac0VlH0f4",
        "colab": {
          "base_uri": "https://localhost:8080/"
        },
        "outputId": "ec1a3c24-3ffa-4825-bec9-c051acdd85d6"
      },
      "execution_count": null,
      "outputs": [
        {
          "output_type": "stream",
          "name": "stdout",
          "text": [
            "\n",
            "  Add three numbers\n",
            "\n",
            "  Parameters\n",
            "  ----------\n",
            "  a : float\n",
            "    The first number in the sum.\n",
            "\n",
            "  b : float\n",
            "    The second number in the sum.\n",
            "\n",
            "  c : float\n",
            "    The third number in the sum.\n",
            "\n",
            "  Returns\n",
            "  -------\n",
            "  float\n",
            "    The sum of a, b, and c.\n",
            "  \n"
          ]
        }
      ]
    },
    {
      "cell_type": "code",
      "source": [
        "help(triple_add)"
      ],
      "metadata": {
        "id": "MUZD_Jf0H3wi",
        "colab": {
          "base_uri": "https://localhost:8080/"
        },
        "outputId": "7d8b5f49-da18-4ef2-9648-fd178522c3be"
      },
      "execution_count": null,
      "outputs": [
        {
          "output_type": "stream",
          "name": "stdout",
          "text": [
            "Help on function triple_add in module __main__:\n",
            "\n",
            "triple_add(a, b, c)\n",
            "    Add three numbers\n",
            "    \n",
            "    Parameters\n",
            "    ----------\n",
            "    a : float\n",
            "      The first number in the sum.\n",
            "    \n",
            "    b : float\n",
            "      The second number in the sum.\n",
            "    \n",
            "    c : float\n",
            "      The third number in the sum.\n",
            "    \n",
            "    Returns\n",
            "    -------\n",
            "    float\n",
            "      The sum of a, b, and c.\n",
            "\n"
          ]
        }
      ]
    },
    {
      "cell_type": "markdown",
      "source": [
        "In case you're curious, the __main__ module that is mentioned in the above example just means that the function you're asking about is defined in the current code document, rather than imported from some other document."
      ],
      "metadata": {
        "id": "1OKSRnS_oIoM"
      }
    },
    {
      "cell_type": "markdown",
      "source": [
        "&nbsp;\n",
        "**(Breakout room here)**\n",
        "### Question 4: Define a function that prints the square of a variable. Then call this function using the variables we declared earlier ( `a`, `b`, `i`,`j`, and `L`) as arguments."
      ],
      "metadata": {
        "id": "xNgXAhod-a0T"
      }
    },
    {
      "cell_type": "code",
      "source": [
        "# solution here\n",
        "def square(a):\n",
        "  x = a**2\n",
        "  return x\n",
        "\n",
        "print(square(b))\n"
      ],
      "metadata": {
        "id": "R47JAyG9_mVH",
        "colab": {
          "base_uri": "https://localhost:8080/"
        },
        "outputId": "adfe1d32-0fb7-41c6-d557-2992a5b0efe4"
      },
      "execution_count": null,
      "outputs": [
        {
          "output_type": "stream",
          "name": "stdout",
          "text": [
            "4\n"
          ]
        }
      ]
    },
    {
      "cell_type": "markdown",
      "source": [
        "&nbsp;\n",
        "### Question 5: Define a function that returns the absolute value of a variable. You can use what you've learned about if statements and boolean logic here! Define some new variables `q`, `r`, and `s` and set them equal to 8, -11, and -3. Then call your function with `q`, `r`, and `s` as the argument and print what the function returns."
      ],
      "metadata": {
        "id": "eeLDzX-x_29-"
      }
    },
    {
      "cell_type": "code",
      "source": [
        "#solution here\n",
        "def absolute(x):\n",
        "  if x < 0:\n",
        "    x = -1 * x\n",
        "    return x\n",
        "  else:\n",
        "    return x\n",
        "\n",
        "q = 8\n",
        "r = -11\n",
        "s = -3\n",
        "\n",
        "print(absolute(q))\n",
        "print(absolute(r))\n",
        "print(absolute(s))\n",
        "\n"
      ],
      "metadata": {
        "id": "dl5ZQG9gwRLp",
        "colab": {
          "base_uri": "https://localhost:8080/"
        },
        "outputId": "e85e6fb1-9f99-4650-ba07-1bbfc77232aa"
      },
      "execution_count": null,
      "outputs": [
        {
          "output_type": "stream",
          "name": "stdout",
          "text": [
            "8\n",
            "11\n",
            "3\n"
          ]
        }
      ]
    },
    {
      "cell_type": "markdown",
      "metadata": {
        "id": "LkpiUxOFfb00"
      },
      "source": [
        "&nbsp;\n",
        "\n",
        "### Question 6: Now using the the numpy package, define a new variable with a value of π/2 and call `np.sin` with this variable as the argument. Print what the function returns."
      ]
    },
    {
      "cell_type": "code",
      "source": [
        "# solution here\n",
        "\n",
        "x = np.pi / 2\n",
        "\n",
        "def sin(a):\n",
        "  y = np.sin(a)\n",
        "  return y\n",
        "\n",
        "print(sin(x))"
      ],
      "metadata": {
        "id": "WBAuqwsofb01",
        "colab": {
          "base_uri": "https://localhost:8080/"
        },
        "outputId": "67f8d122-fe88-4626-e7bf-5ea730de1be8"
      },
      "execution_count": null,
      "outputs": [
        {
          "output_type": "stream",
          "name": "stdout",
          "text": [
            "1.0\n"
          ]
        }
      ]
    },
    {
      "cell_type": "markdown",
      "source": [
        "### Question 7: Define a function that divides one number by another number and add documentation for the function. Then print out the docstring."
      ],
      "metadata": {
        "id": "TkYvHXw0H6kn"
      }
    },
    {
      "cell_type": "code",
      "source": [
        "# solution here\n",
        "\n",
        "def add(x,y):\n",
        "\n",
        "  ''' x here is a int or float\n",
        "\n",
        "  y here is also an into or float\n",
        "\n",
        "  x is added to y and their sum z is returned '''\n",
        "\n",
        "  z = x + y\n",
        "  return z\n",
        "\n",
        "print(add.__doc__)\n"
      ],
      "metadata": {
        "id": "5Awtj_0dIG-y",
        "colab": {
          "base_uri": "https://localhost:8080/"
        },
        "outputId": "99c37c1d-16fe-46f8-b99a-209859466850"
      },
      "execution_count": null,
      "outputs": [
        {
          "output_type": "stream",
          "name": "stdout",
          "text": [
            " x here is a int or float \n",
            "\n",
            "  y here is also an into or float \n",
            "\n",
            "  x is added to y and their sum z is returned \n"
          ]
        }
      ]
    },
    {
      "cell_type": "markdown",
      "source": [
        "&nbsp;\n",
        "\n",
        "### The exercises will be in the same folder as this lesson (Exercises.ipynb). Please do the Day 1 exercises with your fellow students before the start of the next session!\n",
        "\n",
        "###Please stay after for a few minutes if you want to make plans with other students to work on the optional homework. You can and should use the Discord for this."
      ],
      "metadata": {
        "id": "RAcG166oIyPH"
      }
    },
    {
      "cell_type": "markdown",
      "source": [
        "###Finally, consider taking a moment to fill out the feedback [form](https://docs.google.com/forms/d/e/1FAIpQLSdzzC9-vBv5DflUQ2kgp4Z_6JKkvi_Id2D3lTLezRikHDJkww/viewform?usp=header) about this lesson."
      ],
      "metadata": {
        "id": "HL7qTZ0Z4hZY"
      }
    }
  ]
}